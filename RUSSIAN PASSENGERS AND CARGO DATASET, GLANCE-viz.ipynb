{
 "cells": [
  {
   "cell_type": "markdown",
   "metadata": {},
   "source": [
    "## CARGO AND PASSENGERS"
   ]
  },
  {
   "cell_type": "code",
   "execution_count": 4,
   "metadata": {
    "_cell_guid": "b1076dfc-b9ad-4769-8c92-a6c4dae69d19",
    "_uuid": "8f2839f25d086af736a60e9eeb907d3b93b6e0e5"
   },
   "outputs": [],
   "source": [
    "# This Python 3 environment comes with many helpful analytics libraries installed\n",
    "# It is defined by the kaggle/python docker image: https://github.com/kaggle/docker-python\n",
    "# For example, here's several helpful packages to load in \n",
    "\n",
    "import numpy as np # linear algebra\n",
    "import pandas as pd # data processing, CSV file I/O (e.g. pd.read_csv)\n",
    "import matplotlib.pyplot as plt\n",
    "import seaborn as sns\n",
    "import sklearn\n",
    "\n",
    "# Input data files are available in the \"../input/\" directory.\n",
    "# For example, running this (by clicking run or pressing Shift+Enter) will list all files under the input directory\n",
    "\n",
    "import os\n",
    "for dirname, _, filenames in os.walk('/kaggle/input'):\n",
    "    for filename in filenames:\n",
    "        print(os.path.join(dirname, filename))\n",
    "\n",
    "# Any results you write to the current directory are saved as output."
   ]
  },
  {
   "cell_type": "code",
   "execution_count": 5,
   "metadata": {
    "_cell_guid": "79c7e3d0-c299-4dcb-8224-4455121ee9b0",
    "_uuid": "d629ff2d2480ee46fbb7e2d37f6b5fab8052498a"
   },
   "outputs": [
    {
     "name": "stdout",
     "output_type": "stream",
     "text": [
      "      Airport name  Year  January  February  March  April  May  June  July  \\\n",
      "0           Abakan  2020    43.58       0.0    0.0    0.0  0.0   0.0   0.0   \n",
      "1           Aikhal  2020     0.00       0.0    0.0    0.0  0.0   0.0   0.0   \n",
      "2             Loss  2020     0.00       0.0    0.0    0.0  0.0   0.0   0.0   \n",
      "3          Amderma  2020     0.00       0.0    0.0    0.0  0.0   0.0   0.0   \n",
      "4  Anadyr (Carbon)  2020   122.00       0.0    0.0    0.0  0.0   0.0   0.0   \n",
      "\n",
      "   August  September  October  November  December  Whole year  \\\n",
      "0     0.0        0.0      0.0       0.0       0.0         0.0   \n",
      "1     0.0        0.0      0.0       0.0       0.0         0.0   \n",
      "2     0.0        0.0      0.0       0.0       0.0         0.0   \n",
      "3     0.0        0.0      0.0       0.0       0.0         0.0   \n",
      "4     0.0        0.0      0.0       0.0       0.0         0.0   \n",
      "\n",
      "                             Airport coordinates  \n",
      "0   (Decimal('91.399735'), Decimal('53.751351'))  \n",
      "1  (Decimal('111.543324'), Decimal('65.957161'))  \n",
      "2  (Decimal('125.398355'), Decimal('58.602489'))  \n",
      "3   (Decimal('61.577429'), Decimal('69.759076'))  \n",
      "4  (Decimal('177.738273'), Decimal('64.713433'))  \n",
      "      Airport name  Year  January  February  March  April  May  June  July  \\\n",
      "0           Abakan  2020  13495.0   14940.0    0.0    0.0  0.0   0.0   0.0   \n",
      "1           Aikhal  2020      0.0       0.0    0.0    0.0  0.0   0.0   0.0   \n",
      "2             Loss  2020      0.0       0.0    0.0    0.0  0.0   0.0   0.0   \n",
      "3          Amderma  2020      0.0       0.0    0.0    0.0  0.0   0.0   0.0   \n",
      "4  Anadyr (Carbon)  2020   4255.0    4565.0    0.0    0.0  0.0   0.0   0.0   \n",
      "\n",
      "   August  September  October  November  December  Whole year  \\\n",
      "0     0.0        0.0      0.0       0.0       0.0         0.0   \n",
      "1     0.0        0.0      0.0       0.0       0.0         0.0   \n",
      "2     0.0        0.0      0.0       0.0       0.0         0.0   \n",
      "3     0.0        0.0      0.0       0.0       0.0         0.0   \n",
      "4     0.0        0.0      0.0       0.0       0.0         0.0   \n",
      "\n",
      "                             Airport coordinates  \n",
      "0   (Decimal('91.399735'), Decimal('53.751351'))  \n",
      "1  (Decimal('111.543324'), Decimal('65.957161'))  \n",
      "2  (Decimal('125.398355'), Decimal('58.602489'))  \n",
      "3   (Decimal('61.577429'), Decimal('69.759076'))  \n",
      "4  (Decimal('177.738273'), Decimal('64.713433'))  \n"
     ]
    }
   ],
   "source": [
    "data = pd.read_csv('russian_air_service_CARGO_AND_PARCELS.csv')\n",
    "data_1 = pd.read_csv('russian_passenger_air_service_2.csv')\n",
    "print(data.head())\n",
    "print(data_1.head())"
   ]
  },
  {
   "cell_type": "code",
   "execution_count": 6,
   "metadata": {},
   "outputs": [
    {
     "data": {
      "text/plain": [
       "Airport name           0\n",
       "Year                   0\n",
       "January                0\n",
       "February               0\n",
       "March                  0\n",
       "April                  0\n",
       "May                    0\n",
       "June                   0\n",
       "July                   0\n",
       "August                 0\n",
       "September              0\n",
       "October                0\n",
       "November               0\n",
       "December               0\n",
       "Whole year             0\n",
       "Airport coordinates    0\n",
       "dtype: int64"
      ]
     },
     "execution_count": 6,
     "metadata": {},
     "output_type": "execute_result"
    }
   ],
   "source": [
    "#check for null values in theCARGO and PARCELS data\n",
    "data.isna().sum()"
   ]
  },
  {
   "cell_type": "code",
   "execution_count": 7,
   "metadata": {},
   "outputs": [
    {
     "data": {
      "text/plain": [
       "Airport name           0\n",
       "Year                   0\n",
       "January                0\n",
       "February               0\n",
       "March                  0\n",
       "April                  0\n",
       "May                    0\n",
       "June                   0\n",
       "July                   0\n",
       "August                 0\n",
       "September              0\n",
       "October                0\n",
       "November               0\n",
       "December               0\n",
       "Whole year             0\n",
       "Airport coordinates    0\n",
       "dtype: int64"
      ]
     },
     "execution_count": 7,
     "metadata": {},
     "output_type": "execute_result"
    }
   ],
   "source": [
    "#check for null values in the passenger data\n",
    "data_1.isna().sum()"
   ]
  },
  {
   "cell_type": "code",
   "execution_count": 8,
   "metadata": {},
   "outputs": [
    {
     "name": "stdout",
     "output_type": "stream",
     "text": [
      "       Whole year\n",
      "Year             \n",
      "2016  2326.610103\n",
      "2017  2649.528356\n",
      "2018  3093.126129\n",
      "2019  3046.240120\n",
      "2020     0.000000\n",
      "         Whole year\n",
      "Year               \n",
      "2016  493087.041096\n",
      "2017  569056.071918\n",
      "2018  742697.088710\n",
      "2019  792942.147410\n",
      "2020       0.000000\n"
     ]
    },
    {
     "data": {
      "image/png": "[encoded data removed]",
      "text/plain": [
       "<Figure size 432x288 with 1 Axes>"
      ]
     },
     "metadata": {
      "needs_background": "light"
     },
     "output_type": "display_data"
    },
    {
     "data": {
      "image/png": "[encoded data removed]",
      "text/plain": [
       "<Figure size 432x288 with 1 Axes>"
      ]
     },
     "metadata": {
      "needs_background": "light"
     },
     "output_type": "display_data"
    }
   ],
   "source": [
    "#create a pivot table w/yearly totals for CARGOO/PARCELS data\n",
    "pivoted_yearly_c = data.pivot_table(index = 'Year', values='Whole year')\n",
    "print(pivoted_yearly_c.tail())\n",
    "\n",
    "#create a pivot table w/yearly totals for PASSENGERS data\n",
    "pivoted_yearly_p = data_1.pivot_table(index = 'Year', values='Whole year')\n",
    "print(pivoted_yearly_p.tail())\n",
    "\n",
    "#visualise the yearly totals for both CARGO and PASSENGERS\n",
    "plt.plot(pivoted_yearly_c, color = 'magenta')\n",
    "plt.xlabel('Year')\n",
    "plt.ylabel('Totals')\n",
    "plt.title('CARGOS AND PARCELS YEARLY - RUSSIAN AIRLINES')\n",
    "plt.show()\n",
    "\n",
    "plt.plot(pivoted_yearly_p, color = 'magenta')\n",
    "plt.xlabel('Year')\n",
    "plt.ylabel('Totals')\n",
    "plt.title('PASSENGERS - RUSSIAN AIRLINES')\n",
    "plt.show()"
   ]
  },
  {
   "cell_type": "code",
   "execution_count": 9,
   "metadata": {},
   "outputs": [
    {
     "name": "stdout",
     "output_type": "stream",
     "text": [
      "      Total Cargo\n",
      "Year             \n",
      "2007  2258.350103\n",
      "2008  2276.309795\n",
      "2009  1920.581404\n",
      "2010  2373.404041\n",
      "2011  2803.738733\n",
      "      Total Passengers\n",
      "Year                  \n",
      "2007     254407.993151\n",
      "2008     280562.743151\n",
      "2009     257946.027397\n",
      "2010     318999.160959\n",
      "2011     359627.027397\n",
      "      Total Passengers  Total Cargo\n",
      "Year                               \n",
      "2007     254407.993151  2258.350103\n",
      "2008     280562.743151  2276.309795\n",
      "2009     257946.027397  1920.581404\n",
      "2010     318999.160959  2373.404041\n",
      "2011     359627.027397  2803.738733\n"
     ]
    },
    {
     "data": {
      "text/plain": [
       "<matplotlib.axes._subplots.AxesSubplot at 0x7f774ae7d950>"
      ]
     },
     "execution_count": 9,
     "metadata": {},
     "output_type": "execute_result"
    },
    {
     "data": {
      "image/png": "[encoded data removed]",
      "text/plain": [
       "<Figure size 792x648 with 2 Axes>"
      ]
     },
     "metadata": {},
     "output_type": "display_data"
    }
   ],
   "source": [
    "#checking for correlation between the CARGO and PASSENGERS\n",
    "pivoted_yearly_c.rename(columns={'Year': 'Year', 'Whole year': 'Total Cargo'}, inplace=True)\n",
    "pivoted_yearly_p.rename(columns={'Year': 'Year', 'Whole year': 'Total Passengers'}, inplace=True)\n",
    "print(pivoted_yearly_c.head())\n",
    "print(pivoted_yearly_p.head())\n",
    "\n",
    "#merge the tables\n",
    "new_pivot = pd.merge(pivoted_yearly_p, pivoted_yearly_c, how='inner', on=None, left_on=pivoted_yearly_p.index, right_on=pivoted_yearly_c.index,\n",
    "left_index=True, right_index=False, sort=True)\n",
    "new_pivot = new_pivot.drop('key_0', axis = 1)\n",
    "print(new_pivot.head())\n",
    "\n",
    "# Compute correlations\n",
    "corr = new_pivot.corr()\n",
    "# Exclude duplicate correlations by masking upper right values\n",
    "mask = np.zeros_like(corr, dtype=np.bool)\n",
    "mask[np.triu_indices_from(mask)] = True\n",
    "\n",
    "# Set background color / chart style\n",
    "sns.set_style(style = 'white')\n",
    "# Set up  matplotlib figure\n",
    "f, ax = plt.subplots(figsize=(11, 9))\n",
    "# Add diverging colormap\n",
    "cmap = sns.diverging_palette(10, 250, as_cmap=True)\n",
    "# Draw correlation plot\n",
    "sns.heatmap(corr, mask=mask, cmap=cmap, \n",
    "        square=True,\n",
    "        linewidths=.5, cbar_kws={\"shrink\": .5})\n"
   ]
  },
  {
   "cell_type": "markdown",
   "metadata": {},
   "source": [
    "The line plot shows an almost similar trend in the cargo and passenger numbers with highest peak in 2018/9 in both plots.\n",
    "Number of passengers and cargo totals have a high correlation as per the heatmap."
   ]
  },
  {
   "cell_type": "code",
   "execution_count": 10,
   "metadata": {},
   "outputs": [
    {
     "name": "stdout",
     "output_type": "stream",
     "text": [
      "         January   February      March      April        May       June  \\\n",
      "Year                                                                      \n",
      "2016    37027.95   45920.32   52682.46   56039.45   52461.46   53173.89   \n",
      "2017    44991.56   50535.46   68017.79   64988.47   66284.59   63515.38   \n",
      "2018    49572.67   55449.01   62684.84   62874.95   65109.87   66997.65   \n",
      "2019    45365.27   51862.55   62132.32   64770.87   60454.37   60775.68   \n",
      "Total  530850.20  646356.88  763513.86  777944.39  771737.59  757709.25   \n",
      "\n",
      "            July     August  September    October   November   December  \n",
      "Year                                                                     \n",
      "2016    53389.32   58970.38   60919.95   66389.96   67932.38   74462.63  \n",
      "2017    63616.70   65542.13   66663.90   70297.32   73326.73   76151.11  \n",
      "2018    63790.77   66193.06   66337.28   69573.46   70467.59   74609.50  \n",
      "2019    65223.58   65431.94   67362.54   70742.14   73215.60   77269.41  \n",
      "Total  771631.50  817733.04  842503.65  890606.60  887011.68  929016.92  \n",
      "           January    February        March        April          May  \\\n",
      "Year                                                                    \n",
      "2016     9186708.0   8547411.0    9638081.0    9912538.0   11361583.0   \n",
      "2017    10768775.0   9927701.0   11156744.0   12013343.0   13779831.0   \n",
      "2018    12062442.0  10803965.0   12469167.0   13404012.0   15136489.0   \n",
      "2019    13178003.0  11879666.0   14116326.0   14827949.0   16867711.0   \n",
      "Total  105847206.0  96227453.0  111738531.0  118897661.0  137685031.0   \n",
      "\n",
      "              June         July       August    September      October  \\\n",
      "Year                                                                     \n",
      "2016    13940169.0   16197919.0   16545897.0   14728223.0   12427516.0   \n",
      "2017    16262067.0   18848804.0   18791372.0   16715321.0   14139973.0   \n",
      "2018    18223574.0   20506743.0   20827070.0   18666936.0   15975987.0   \n",
      "2019    19237571.0   21794725.0   22141266.0   19515959.0   17153176.0   \n",
      "Total  165372797.0  189011606.0  193653010.0  168010468.0  141430337.0   \n",
      "\n",
      "          November   December  \n",
      "Year                           \n",
      "2016    10624634.0   74462.63  \n",
      "2017    12012965.0   76151.11  \n",
      "2018    13525855.0   74609.50  \n",
      "2019    14182851.0   77269.41  \n",
      "Total  119671527.0  929016.92  \n"
     ]
    }
   ],
   "source": [
    "#creating a pivot table w/monthly totals\n",
    "pivot_monthly_c = data.pivot_table(index = 'Year', values = ['January', 'February', 'March', 'April', 'May',\n",
    "       'June', 'July', 'August', 'September', 'October', 'November', 'December'], aggfunc = sum)\n",
    "pivot_monthly_c = pivot_monthly_c.drop(2020, axis = 0)  #drop 2020 records.\n",
    "pivot_monthly_c.loc['Total'] = pivot_monthly_c.sum(axis = 0)    #add the Total index\n",
    "pivot_monthly_c = pivot_monthly_c.reindex(columns = ['January', 'February', 'March', 'April', 'May',    #reindex the columns\n",
    "       'June', 'July', 'August', 'September', 'October', 'November', 'December'])\n",
    "\n",
    "\n",
    "pivot_monthly_p = data_1.pivot_table(index = 'Year', values = ['January', 'February', 'March', 'April', 'May',\n",
    "       'June', 'July', 'August', 'September', 'October', 'November', 'December'], aggfunc = sum)\n",
    "pivot_monthly_p = pivot_monthly_p.drop(2020, axis = 0)  #drop 2020 records.\n",
    "pivot_monthly_p.loc['Total'] = pivot_monthly_p.sum(axis = 0)    #add the Total index\n",
    "pivot_monthly_p = pivot_monthly_p.reindex(columns = ['January', 'February', 'March', 'April', 'May',   \n",
    "       'June', 'July', 'August', 'September', 'October', 'November', 'December'])        #reindex the columns\n",
    " \n",
    "\n",
    "print(pivot_monthly_c.tail())\n",
    "print(pivot_monthly_p.tail())"
   ]
  },
  {
   "cell_type": "code",
   "execution_count": 11,
   "metadata": {},
   "outputs": [
    {
     "name": "stdout",
     "output_type": "stream",
     "text": [
      "        January   February      March      April        May       June  \\\n",
      "Year                                                                     \n",
      "Total  530850.2  646356.88  763513.86  777944.39  771737.59  757709.25   \n",
      "\n",
      "           July     August  September   October   November   December  \n",
      "Year                                                                   \n",
      "Total  771631.5  817733.04  842503.65  890606.6  887011.68  929016.92  \n"
     ]
    },
    {
     "data": {
      "image/png": "[encoded data removed]",
      "text/plain": [
       "<Figure size 1008x432 with 1 Axes>"
      ]
     },
     "metadata": {},
     "output_type": "display_data"
    }
   ],
   "source": [
    "#acessing the totals row and plotting a bar chart\n",
    "df = pivot_monthly_c.iloc[[13]] \n",
    "\n",
    "plt.figure(figsize=(14,6))\n",
    "sns.barplot(data = df)\n",
    "print(df)"
   ]
  },
  {
   "cell_type": "code",
   "execution_count": 12,
   "metadata": {},
   "outputs": [
    {
     "name": "stdout",
     "output_type": "stream",
     "text": [
      "           January    February        March        April          May  \\\n",
      "Year                                                                    \n",
      "Total  105847206.0  96227453.0  111738531.0  118897661.0  137685031.0   \n",
      "\n",
      "              June         July       August    September      October  \\\n",
      "Year                                                                     \n",
      "Total  165372797.0  189011606.0  193653010.0  168010468.0  141430337.0   \n",
      "\n",
      "          November   December  \n",
      "Year                           \n",
      "Total  119671527.0  929016.92  \n"
     ]
    },
    {
     "data": {
      "text/plain": [
       "<matplotlib.axes._subplots.AxesSubplot at 0x7f774ae23d50>"
      ]
     },
     "execution_count": 12,
     "metadata": {},
     "output_type": "execute_result"
    },
    {
     "data": {
      "image/png": "[encoded data removed]",
      "text/plain": [
       "<Figure size 1008x432 with 1 Axes>"
      ]
     },
     "metadata": {},
     "output_type": "display_data"
    }
   ],
   "source": [
    "df1 = pivot_monthly_p.iloc[[13]]\n",
    "print(df1)\n",
    "plt.figure(figsize=(14,6))\n",
    "sns.barplot(data = df1)"
   ]
  },
  {
   "cell_type": "markdown",
   "metadata": {},
   "source": [
    "From the barcharts, numbers along the months between the passengers and cargo are not highly correlated."
   ]
  },
  {
   "cell_type": "code",
   "execution_count": null,
   "metadata": {},
   "outputs": [],
   "source": []
  },
  {
   "cell_type": "code",
   "execution_count": null,
   "metadata": {},
   "outputs": [],
   "source": []
  }
 ],
 "metadata": {
  "kernelspec": {
   "display_name": "Python 3",
   "language": "python",
   "name": "python3"
  },
  "language_info": {
   "codemirror_mode": {
    "name": "ipython",
    "version": 3
   },
   "file_extension": ".py",
   "mimetype": "text/x-python",
   "name": "python",
   "nbconvert_exporter": "python",
   "pygments_lexer": "ipython3",
   "version": "3.7.4"
  }
 },
 "nbformat": 4,
 "nbformat_minor": 4
}
